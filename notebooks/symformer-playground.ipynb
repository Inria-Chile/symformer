{
  "cells": [
    {
      "cell_type": "markdown",
      "metadata": {
        "id": "Xa8FWeW1_nRr"
      },
      "source": [
        "# **SymFormer**: End-to-end symbolic regression using transformer-based architecture\n",
        "[Martin Vastl](https://www.linkedin.com/in/vastl-martin/), [Jonáš Kulhánek](https://jkulhanek.github.io/),\n",
        "[Jiří Kubalík](https://www.linkedin.com/in/jiri-kubalik), [Erik Derner](http://people.ciirc.cvut.cz/~derneeri/), [Robert Babuška](http://www.robertbabuska.com/)<br>\n",
        "\n",
        "## Contents\n",
        "  - [Univariate model prediction](#Univariate-model-prediction)\n",
        "  - [Bivariate model prediction](#Bivariate-model-prediction)\n",
        "\n",
        "\n",
        "<br>\n",
        "In this notebook, you can play with the pre-trained models. Start by running the first cell.\n"
      ]
    },
    {
      "cell_type": "code",
      "execution_count": 1,
      "metadata": {},
      "outputs": [],
      "source": [
        "import os"
      ]
    },
    {
      "cell_type": "code",
      "execution_count": 2,
      "metadata": {},
      "outputs": [],
      "source": [
        "os.environ[\"PROTOCOL_BUFFERS_PYTHON_IMPLEMENTATION\"]=\"python\""
      ]
    },
    {
      "cell_type": "code",
      "execution_count": 3,
      "metadata": {},
      "outputs": [
        {
          "name": "stderr",
          "output_type": "stream",
          "text": [
            "2024-01-05 19:20:37.947604: W tensorflow/stream_executor/platform/default/dso_loader.cc:64] Could not load dynamic library 'libcudart.so.11.0'; dlerror: libcudart.so.11.0: cannot open shared object file: No such file or directory\n",
            "2024-01-05 19:20:37.947634: I tensorflow/stream_executor/cuda/cudart_stub.cc:29] Ignore above cudart dlerror if you do not have a GPU set up on your machine.\n"
          ]
        }
      ],
      "source": [
        "from symformer.model.runner import Runner"
      ]
    },
    {
      "cell_type": "code",
      "execution_count": 4,
      "metadata": {},
      "outputs": [
        {
          "ename": "WrongTypeError",
          "evalue": "wrong value type for field \"input_regularizer\" - should be \"typing.Optional[symformer.model.input_regularizers.Regularizer]\" instead of value \"random_noise_regularizer()\" of type \"str\"",
          "output_type": "error",
          "traceback": [
            "\u001b[0;31m---------------------------------------------------------------------------\u001b[0m",
            "\u001b[0;31mWrongTypeError\u001b[0m                            Traceback (most recent call last)",
            "Cell \u001b[0;32mIn[4], line 1\u001b[0m\n\u001b[0;32m----> 1\u001b[0m runner \u001b[38;5;241m=\u001b[39m \u001b[43mRunner\u001b[49m\u001b[38;5;241;43m.\u001b[39;49m\u001b[43mfrom_checkpoint\u001b[49m\u001b[43m(\u001b[49m\u001b[38;5;124;43m'\u001b[39;49m\u001b[38;5;124;43msymformer-univariate\u001b[39;49m\u001b[38;5;124;43m'\u001b[39;49m\u001b[43m)\u001b[49m\n",
            "File \u001b[0;32m/workspace/symformer/symformer/model/runner.py:78\u001b[0m, in \u001b[0;36mRunner.from_checkpoint\u001b[0;34m(cls, path, **kwargs)\u001b[0m\n\u001b[1;32m     76\u001b[0m config_dict[\u001b[38;5;124m\"\u001b[39m\u001b[38;5;124mdataset_config\u001b[39m\u001b[38;5;124m\"\u001b[39m][\u001b[38;5;124m\"\u001b[39m\u001b[38;5;124mpath\u001b[39m\u001b[38;5;124m\"\u001b[39m] \u001b[38;5;241m=\u001b[39m \u001b[38;5;124m\"\u001b[39m\u001b[38;5;124m\"\u001b[39m\n\u001b[1;32m     77\u001b[0m config_dict[\u001b[38;5;124m\"\u001b[39m\u001b[38;5;124mdataset_config\u001b[39m\u001b[38;5;124m\"\u001b[39m][\u001b[38;5;124m\"\u001b[39m\u001b[38;5;124mvalid_path\u001b[39m\u001b[38;5;124m\"\u001b[39m] \u001b[38;5;241m=\u001b[39m \u001b[38;5;124m\"\u001b[39m\u001b[38;5;124m\"\u001b[39m\n\u001b[0;32m---> 78\u001b[0m config: Config \u001b[38;5;241m=\u001b[39m \u001b[43mfrom_dict\u001b[49m\u001b[43m(\u001b[49m\u001b[43mConfig\u001b[49m\u001b[43m,\u001b[49m\u001b[43m \u001b[49m\u001b[43mconfig_dict\u001b[49m\u001b[43m)\u001b[49m \u001b[38;5;66;03m# aclick.utils.from_dict(Config, config_dict)\u001b[39;00m\n\u001b[1;32m     79\u001b[0m \u001b[38;5;28;01mreturn\u001b[39;00m \u001b[38;5;28mcls\u001b[39m(\n\u001b[1;32m     80\u001b[0m     os\u001b[38;5;241m.\u001b[39mpath\u001b[38;5;241m.\u001b[39mjoin(path, \u001b[38;5;124m\"\u001b[39m\u001b[38;5;124mweights\u001b[39m\u001b[38;5;124m\"\u001b[39m),\n\u001b[1;32m     81\u001b[0m     config,\n\u001b[1;32m     82\u001b[0m     variables\u001b[38;5;241m=\u001b[39mconfig\u001b[38;5;241m.\u001b[39mdataset_config\u001b[38;5;241m.\u001b[39mvariables,\n\u001b[1;32m     83\u001b[0m     \u001b[38;5;241m*\u001b[39m\u001b[38;5;241m*\u001b[39mkwargs\n\u001b[1;32m     84\u001b[0m )\n",
            "File \u001b[0;32m/workspace/symformer/.venv/lib/python3.9/site-packages/dacite/core.py:69\u001b[0m, in \u001b[0;36mfrom_dict\u001b[0;34m(data_class, data, config)\u001b[0m\n\u001b[1;32m     67\u001b[0m         \u001b[38;5;28;01mraise\u001b[39;00m\n\u001b[1;32m     68\u001b[0m     \u001b[38;5;28;01mif\u001b[39;00m config\u001b[38;5;241m.\u001b[39mcheck_types \u001b[38;5;129;01mand\u001b[39;00m \u001b[38;5;129;01mnot\u001b[39;00m is_instance(value, field_type):\n\u001b[0;32m---> 69\u001b[0m         \u001b[38;5;28;01mraise\u001b[39;00m WrongTypeError(field_path\u001b[38;5;241m=\u001b[39mfield\u001b[38;5;241m.\u001b[39mname, field_type\u001b[38;5;241m=\u001b[39mfield_type, value\u001b[38;5;241m=\u001b[39mvalue)\n\u001b[1;32m     70\u001b[0m \u001b[38;5;28;01melse\u001b[39;00m:\n\u001b[1;32m     71\u001b[0m     \u001b[38;5;28;01mtry\u001b[39;00m:\n",
            "\u001b[0;31mWrongTypeError\u001b[0m: wrong value type for field \"input_regularizer\" - should be \"typing.Optional[symformer.model.input_regularizers.Regularizer]\" instead of value \"random_noise_regularizer()\" of type \"str\""
          ]
        }
      ],
      "source": [
        "runner = Runner.from_checkpoint('symformer-univariate')"
      ]
    },
    {
      "cell_type": "markdown",
      "metadata": {
        "id": "IbffwDAAAo6O"
      },
      "source": [
        "# Univariate model prediction\n",
        "[back to top 🠕](#SymFormer:-End-to-end-symbolic-regression-using-transformer-based-architecture)\n",
        "<br>\n",
        "\n",
        "To use the model for the inference, import Runner and use predict method. For further hyperparameters, see Runner class."
      ]
    },
    {
      "cell_type": "code",
      "execution_count": 16,
      "metadata": {
        "colab": {
          "base_uri": "https://localhost:8080/"
        },
        "id": "7WQFhOyi3SWx",
        "outputId": "4f4e1079-adc7-4fdd-fff8-3651b755f7d6",
        "pycharm": {
          "name": "#%%\n"
        }
      },
      "outputs": [
        {
          "name": "stdout",
          "output_type": "stream",
          "text": [
            "WARNING:tensorflow:Detecting that an object or model or tf.train.Checkpoint is being deleted with unrestored values. See the following logs for the specific values in question. To silence these warnings, use `status.expect_partial()`. See https://www.tensorflow.org/api_docs/python/tf/train/Checkpoint#restorefor details about the status object returned by the restore function.\n",
            "WARNING:tensorflow:Value in checkpoint could not be found in the restored object: (root).optimizer.beta_1\n",
            "WARNING:tensorflow:Value in checkpoint could not be found in the restored object: (root).optimizer.beta_2\n",
            "WARNING:tensorflow:Value in checkpoint could not be found in the restored object: (root).optimizer.decay\n",
            "WARNING:tensorflow:Value in checkpoint could not be found in the restored object: (root).optimizer.iter\n",
            "prediction: (((1.0+(x^-2.0)))^(1/2)), R2:1.0, RE:1.2187129048067321e-17\n"
          ]
        },
        {
          "name": "stderr",
          "output_type": "stream",
          "text": [
            "<string>:2: RuntimeWarning: invalid value encountered in log\n"
          ]
        },
        {
          "name": "stdout",
          "output_type": "stream",
          "text": [
            "prediction: (7.700007438659668+ln(((x)^3))), R2:0.9999999999968476, RE:1.0042687377027066e-06\n",
            "prediction: (-7.516331672668457+((-0.8938477635383606*x)+(x*cos(tan(x))))), R2:0.988966236075803, RE:0.05892022847804435\n",
            "prediction: ((0.03000311367213726*x)+(-60.650657653808594*(x*exp((-1*x))))), R2:0.9999786384776698, RE:0.010265059605152158\n",
            "prediction: (-8.745584523239813e-07+((0.34000012278556824*x)+(((x)^2)+(-1*cos((2.530787467956543+x)))))), R2:0.9999999999992049, RE:3.1213279447007917e-06\n"
          ]
        }
      ],
      "source": [
        "from symformer.model.runner import Runner\n",
        "\n",
        "runner = Runner.from_checkpoint('symformer-univariate')\n",
        "\n",
        "prediction, r2, relative_error = runner.predict('sqrt(1 + x^(-2))')\n",
        "print(f'prediction: {prediction}, R2:{r2}, RE:{relative_error}')\n",
        " \n",
        "prediction, r2, relative_error = runner.predict('7.7 + 3 * ln(x)')\n",
        "print(f'prediction: {prediction}, R2:{r2}, RE:{relative_error}')\n",
        "\n",
        "prediction, r2, relative_error = runner.predict('-7.46 - 0.8 * x + x * cos(tan(x))')\n",
        "print(f'prediction: {prediction}, R2:{r2}, RE:{relative_error}')\n",
        "\n",
        "prediction, r2, relative_error = runner.predict('-60.9 * x * exp(-x)')\n",
        "print(f'prediction: {prediction}, R2:{r2}, RE:{relative_error}')\n",
        "\n",
        "prediction, r2, relative_error = runner.predict('0.34 * x + (((x) ^ 2) + sin(0.96 + x))')\n",
        "print(f'prediction: {prediction}, R2:{r2}, RE:{relative_error}')"
      ]
    },
    {
      "cell_type": "markdown",
      "metadata": {
        "collapsed": false,
        "id": "3Qp9wDhd3SWz",
        "pycharm": {
          "name": "#%% md\n"
        }
      },
      "source": [
        "# Bivariate model prediction\n",
        "[back to top 🠕](#SymFormer:-End-to-end-symbolic-regression-using-transformer-based-architecture)\n",
        "<br>\n",
        "\n",
        "To use the model for the inference, import Runner and use predict method. For further hyperparameters, see Runner class."
      ]
    },
    {
      "cell_type": "code",
      "execution_count": 15,
      "metadata": {
        "colab": {
          "base_uri": "https://localhost:8080/"
        },
        "id": "45YqrIR_3SWz",
        "outputId": "52225871-62ab-40c0-d58c-168afdb4ea2a",
        "pycharm": {
          "name": "#%%\n"
        }
      },
      "outputs": [
        {
          "name": "stderr",
          "output_type": "stream",
          "text": [
            "1.05GiB [01:51, 9.38MiB/s]                           \n"
          ]
        },
        {
          "name": "stdout",
          "output_type": "stream",
          "text": [
            "WARNING:tensorflow:Detecting that an object or model or tf.train.Checkpoint is being deleted with unrestored values. See the following logs for the specific values in question. To silence these warnings, use `status.expect_partial()`. See https://www.tensorflow.org/api_docs/python/tf/train/Checkpoint#restorefor details about the status object returned by the restore function.\n",
            "WARNING:tensorflow:Value in checkpoint could not be found in the restored object: (root).optimizer.beta_1\n",
            "WARNING:tensorflow:Value in checkpoint could not be found in the restored object: (root).optimizer.beta_2\n",
            "WARNING:tensorflow:Value in checkpoint could not be found in the restored object: (root).optimizer.decay\n",
            "WARNING:tensorflow:Value in checkpoint could not be found in the restored object: (root).optimizer.iter\n",
            "WARNING:tensorflow:Detecting that an object or model or tf.train.Checkpoint is being deleted with unrestored values. See the following logs for the specific values in question. To silence these warnings, use `status.expect_partial()`. See https://www.tensorflow.org/api_docs/python/tf/train/Checkpoint#restorefor details about the status object returned by the restore function.\n",
            "WARNING:tensorflow:Value in checkpoint could not be found in the restored object: (root).optimizer.beta_1\n",
            "WARNING:tensorflow:Value in checkpoint could not be found in the restored object: (root).optimizer.beta_2\n",
            "WARNING:tensorflow:Value in checkpoint could not be found in the restored object: (root).optimizer.decay\n",
            "WARNING:tensorflow:Value in checkpoint could not be found in the restored object: (root).optimizer.iter\n",
            "prediction: (x+((-1*((x)^3))+((cos((-0.01946224458515644+(0.3719232976436615*y))))^3))), R2:0.9999938933251361, RE:0.10235376056167515\n"
          ]
        }
      ],
      "source": [
        "from symformer.model.runner import Runner\n",
        "\n",
        "runner = Runner.from_checkpoint('symformer-bivariate', num_equations=128)\n",
        "\n",
        "prediction, r2, relative_error = runner.predict('x - x^3 + y^(-1) * sin(y)')\n",
        "print(f'prediction: {prediction}, R2:{r2}, RE:{relative_error}')"
      ]
    }
  ],
  "metadata": {
    "colab": {
      "name": "symformer-playground.ipynb",
      "provenance": []
    },
    "kernelspec": {
      "display_name": "Python 3",
      "language": "python",
      "name": "python3"
    },
    "language_info": {
      "codemirror_mode": {
        "name": "ipython",
        "version": 3
      },
      "file_extension": ".py",
      "mimetype": "text/x-python",
      "name": "python",
      "nbconvert_exporter": "python",
      "pygments_lexer": "ipython3",
      "version": "3.9.5"
    }
  },
  "nbformat": 4,
  "nbformat_minor": 0
}
