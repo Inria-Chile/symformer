{
  "cells": [
    {
      "cell_type": "markdown",
      "source": [
        "# **SymFormer**: End-to-end symbolic regression using transformer-based architecture\n",
        "[Martin Vastl](https://www.linkedin.com/in/vastl-martin/), [Jonáš Kulhánek](https://jkulhanek.github.io/),\n",
        "[Jiří Kubalík](https://www.linkedin.com/in/jiri-kubalik), [Erik Derner](http://people.ciirc.cvut.cz/~derneeri/), [Robert Babuška](http://www.robertbabuska.com/)<br>\n",
        "\n",
        "## Contents\n",
        "  - [Univariate model prediction](#Univariate-model-prediction)\n",
        "  - [Bivariate model prediction](#Bivariate-model-prediction)\n",
        "\n",
        "\n",
        "<br>\n",
        "In this notebook, you can play with the pre-trained models. Start by running the first cell.\n"
      ],
      "metadata": {
        "id": "Xa8FWeW1_nRr"
      }
    },
    {
      "cell_type": "code",
      "source": [
        "#  Prepare the environment\n",
        "!rm -rf symformer && git clone \"https://github.com/vastlik/symformer.git\" symformer\n",
        "!pip install -r 'symformer/requirements.txt'\n",
        "\n",
        "import sys, os\n",
        "sys.path.append(os.path.abspath('symformer'))"
      ],
      "metadata": {
        "id": "yVqSs_T83XT-"
      },
      "execution_count": null,
      "outputs": []
    },
    {
      "cell_type": "markdown",
      "source": [
        "# Univariate model prediction\n",
        "[back to top 🠕](#SymFormer:-End-to-end-symbolic-regression-using-transformer-based-architecture)\n",
        "<br>\n",
        "\n",
        "To use the model for the inference, import Runner and use predict method. For further hyperparameters, see Runner class."
      ],
      "metadata": {
        "id": "IbffwDAAAo6O"
      }
    },
    {
      "cell_type": "code",
      "execution_count": 16,
      "outputs": [
        {
          "output_type": "stream",
          "name": "stdout",
          "text": [
            "WARNING:tensorflow:Detecting that an object or model or tf.train.Checkpoint is being deleted with unrestored values. See the following logs for the specific values in question. To silence these warnings, use `status.expect_partial()`. See https://www.tensorflow.org/api_docs/python/tf/train/Checkpoint#restorefor details about the status object returned by the restore function.\n",
            "WARNING:tensorflow:Value in checkpoint could not be found in the restored object: (root).optimizer.beta_1\n",
            "WARNING:tensorflow:Value in checkpoint could not be found in the restored object: (root).optimizer.beta_2\n",
            "WARNING:tensorflow:Value in checkpoint could not be found in the restored object: (root).optimizer.decay\n",
            "WARNING:tensorflow:Value in checkpoint could not be found in the restored object: (root).optimizer.iter\n",
            "prediction: (((1.0+(x^-2.0)))^(1/2)), R2:1.0, RE:1.2187129048067321e-17\n"
          ]
        },
        {
          "output_type": "stream",
          "name": "stderr",
          "text": [
            "<string>:2: RuntimeWarning: invalid value encountered in log\n"
          ]
        },
        {
          "output_type": "stream",
          "name": "stdout",
          "text": [
            "prediction: (7.700007438659668+ln(((x)^3))), R2:0.9999999999968476, RE:1.0042687377027066e-06\n",
            "prediction: (-7.516331672668457+((-0.8938477635383606*x)+(x*cos(tan(x))))), R2:0.988966236075803, RE:0.05892022847804435\n",
            "prediction: ((0.03000311367213726*x)+(-60.650657653808594*(x*exp((-1*x))))), R2:0.9999786384776698, RE:0.010265059605152158\n",
            "prediction: (-8.745584523239813e-07+((0.34000012278556824*x)+(((x)^2)+(-1*cos((2.530787467956543+x)))))), R2:0.9999999999992049, RE:3.1213279447007917e-06\n"
          ]
        }
      ],
      "source": [
        "from symformer.model.runner import Runner\n",
        "\n",
        "runner = Runner.from_checkpoint('symformer-univariate')\n",
        "\n",
        "prediction, r2, relative_error = runner.predict('sqrt(1 + x^(-2))')\n",
        "print(f'prediction: {prediction}, R2:{r2}, RE:{relative_error}')\n",
        " \n",
        "prediction, r2, relative_error = runner.predict('7.7 + 3 * ln(x)')\n",
        "print(f'prediction: {prediction}, R2:{r2}, RE:{relative_error}')\n",
        "\n",
        "prediction, r2, relative_error = runner.predict('-7.46 - 0.8 * x + x * cos(tan(x))')\n",
        "print(f'prediction: {prediction}, R2:{r2}, RE:{relative_error}')\n",
        "\n",
        "prediction, r2, relative_error = runner.predict('-60.9 * x * exp(-x)')\n",
        "print(f'prediction: {prediction}, R2:{r2}, RE:{relative_error}')\n",
        "\n",
        "prediction, r2, relative_error = runner.predict('0.34 * x + (((x) ^ 2) + sin(0.96 + x))')\n",
        "print(f'prediction: {prediction}, R2:{r2}, RE:{relative_error}')"
      ],
      "metadata": {
        "pycharm": {
          "name": "#%%\n"
        },
        "id": "7WQFhOyi3SWx",
        "outputId": "4f4e1079-adc7-4fdd-fff8-3651b755f7d6",
        "colab": {
          "base_uri": "https://localhost:8080/"
        }
      }
    },
    {
      "cell_type": "markdown",
      "source": [
        "# Bivariate model prediction\n",
        "[back to top 🠕](#SymFormer:-End-to-end-symbolic-regression-using-transformer-based-architecture)\n",
        "<br>\n",
        "\n",
        "To use the model for the inference, import Runner and use predict method. For further hyperparameters, see Runner class."
      ],
      "metadata": {
        "collapsed": false,
        "pycharm": {
          "name": "#%% md\n"
        },
        "id": "3Qp9wDhd3SWz"
      }
    },
    {
      "cell_type": "code",
      "execution_count": 15,
      "outputs": [
        {
          "metadata": {
            "tags": null
          },
          "name": "stderr",
          "output_type": "stream",
          "text": [
            "1.05GiB [01:51, 9.38MiB/s]                           \n"
          ]
        },
        {
          "output_type": "stream",
          "name": "stdout",
          "text": [
            "WARNING:tensorflow:Detecting that an object or model or tf.train.Checkpoint is being deleted with unrestored values. See the following logs for the specific values in question. To silence these warnings, use `status.expect_partial()`. See https://www.tensorflow.org/api_docs/python/tf/train/Checkpoint#restorefor details about the status object returned by the restore function.\n",
            "WARNING:tensorflow:Value in checkpoint could not be found in the restored object: (root).optimizer.beta_1\n",
            "WARNING:tensorflow:Value in checkpoint could not be found in the restored object: (root).optimizer.beta_2\n",
            "WARNING:tensorflow:Value in checkpoint could not be found in the restored object: (root).optimizer.decay\n",
            "WARNING:tensorflow:Value in checkpoint could not be found in the restored object: (root).optimizer.iter\n",
            "WARNING:tensorflow:Detecting that an object or model or tf.train.Checkpoint is being deleted with unrestored values. See the following logs for the specific values in question. To silence these warnings, use `status.expect_partial()`. See https://www.tensorflow.org/api_docs/python/tf/train/Checkpoint#restorefor details about the status object returned by the restore function.\n",
            "WARNING:tensorflow:Value in checkpoint could not be found in the restored object: (root).optimizer.beta_1\n",
            "WARNING:tensorflow:Value in checkpoint could not be found in the restored object: (root).optimizer.beta_2\n",
            "WARNING:tensorflow:Value in checkpoint could not be found in the restored object: (root).optimizer.decay\n",
            "WARNING:tensorflow:Value in checkpoint could not be found in the restored object: (root).optimizer.iter\n",
            "prediction: (x+((-1*((x)^3))+((cos((-0.01946224458515644+(0.3719232976436615*y))))^3))), R2:0.9999938933251361, RE:0.10235376056167515\n"
          ]
        }
      ],
      "source": [
        "from symformer.model.runner import Runner\n",
        "\n",
        "runner = Runner.from_checkpoint('symformer-bivariate', num_equations=128)\n",
        "\n",
        "prediction, r2, relative_error = runner.predict('x - x^3 + y^(-1) * sin(y)')\n",
        "print(f'prediction: {prediction}, R2:{r2}, RE:{relative_error}')"
      ],
      "metadata": {
        "pycharm": {
          "name": "#%%\n"
        },
        "id": "45YqrIR_3SWz",
        "outputId": "52225871-62ab-40c0-d58c-168afdb4ea2a",
        "colab": {
          "base_uri": "https://localhost:8080/"
        }
      }
    }
  ],
  "metadata": {
    "kernelspec": {
      "display_name": "Python 3",
      "language": "python",
      "name": "python3"
    },
    "language_info": {
      "codemirror_mode": {
        "name": "ipython",
        "version": 2
      },
      "file_extension": ".py",
      "mimetype": "text/x-python",
      "name": "python",
      "nbconvert_exporter": "python",
      "pygments_lexer": "ipython2",
      "version": "2.7.6"
    },
    "colab": {
      "name": "symformer-playground.ipynb",
      "provenance": []
    }
  },
  "nbformat": 4,
  "nbformat_minor": 0
}
